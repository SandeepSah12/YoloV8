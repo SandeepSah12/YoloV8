{
 "cells": [
  {
   "cell_type": "code",
   "execution_count": 1,
   "id": "ea0c254c",
   "metadata": {},
   "outputs": [],
   "source": [
    "import cv2\n",
    "from yolov8 import YOLOv8\n",
    "\n",
    "# Initialize the webcam\n",
    "cap = cv2.VideoCapture(0)\n",
    "\n",
    "# Initialize YOLOv7 object detector\n",
    "model_path = \"models/yolov8m.onnx\"\n",
    "yolov8_detector = YOLOv8(model_path, conf_thres=0.5, iou_thres=0.5)\n",
    "\n",
    "cv2.namedWindow(\"Detected Objects\", cv2.WINDOW_NORMAL)\n",
    "while cap.isOpened():\n",
    "\n",
    "    # Read frame from the video\n",
    "    ret, frame = cap.read()\n",
    "\n",
    "    if not ret:\n",
    "        break\n",
    "\n",
    "    # Update object localizer\n",
    "    boxes, scores, class_ids = yolov8_detector(frame)\n",
    "\n",
    "    combined_img = yolov8_detector.draw_detections(frame)\n",
    "    cv2.imshow(\"Detected Objects\", combined_img)\n",
    "\n",
    "    # Press key q to stop\n",
    "    if cv2.waitKey(1) & 0xFF == ord('q'):\n",
    "        break\n",
    "\n"
   ]
  },
  {
   "cell_type": "code",
   "execution_count": null,
   "id": "e3351102",
   "metadata": {},
   "outputs": [],
   "source": []
  }
 ],
 "metadata": {
  "kernelspec": {
   "display_name": "Python 3 (ipykernel)",
   "language": "python",
   "name": "python3"
  },
  "language_info": {
   "codemirror_mode": {
    "name": "ipython",
    "version": 3
   },
   "file_extension": ".py",
   "mimetype": "text/x-python",
   "name": "python",
   "nbconvert_exporter": "python",
   "pygments_lexer": "ipython3",
   "version": "3.10.11"
  }
 },
 "nbformat": 4,
 "nbformat_minor": 5
}
